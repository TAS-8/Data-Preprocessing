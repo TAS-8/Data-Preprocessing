{
 "cells": [
  {
   "cell_type": "markdown",
   "metadata": {},
   "source": [
    "# Data Cleaning Notebook\n",
    "\n",
    "This notebook demonstrates the process of data cleaning, which is an essential step in the data preprocessing pipeline. By cleaning the dataset, we ensure the data is ready for further analysis or modeling. The key objectives are:\n",
    "- Handle missing values.\n",
    "- Remove unnecessary or redundant rows/columns.\n",
    "- Address inconsistencies in the data.\n",
    "\n",
    "We will use a small sample dataset to illustrate common cleaning techniques.\n"
   ]
  },
  {
   "cell_type": "code",
   "execution_count": 10,
   "metadata": {},
   "outputs": [],
   "source": [
    "#Import libraries\n",
    "import pandas as pd\n",
    "import numpy as np\n",
    "import seaborn as sns\n",
    "import matplotlib.pyplot as plt"
   ]
  },
  {
   "cell_type": "markdown",
   "metadata": {},
   "source": [
    "## Loading the Dataset\n",
    "\n",
    "We will load a sample dataset containing issues like missing values, redundant columns, and inconsistencies. This dataset represents a fictional employee database.\n"
   ]
  },
  {
   "cell_type": "code",
   "execution_count": 11,
   "metadata": {},
   "outputs": [
    {
     "data": {
      "text/html": [
       "<div>\n",
       "<style scoped>\n",
       "    .dataframe tbody tr th:only-of-type {\n",
       "        vertical-align: middle;\n",
       "    }\n",
       "\n",
       "    .dataframe tbody tr th {\n",
       "        vertical-align: top;\n",
       "    }\n",
       "\n",
       "    .dataframe thead th {\n",
       "        text-align: right;\n",
       "    }\n",
       "</style>\n",
       "<table border=\"1\" class=\"dataframe\">\n",
       "  <thead>\n",
       "    <tr style=\"text-align: right;\">\n",
       "      <th></th>\n",
       "      <th>ID</th>\n",
       "      <th>Name</th>\n",
       "      <th>Age</th>\n",
       "      <th>Salary</th>\n",
       "      <th>Join_Date</th>\n",
       "      <th>Department</th>\n",
       "    </tr>\n",
       "  </thead>\n",
       "  <tbody>\n",
       "    <tr>\n",
       "      <th>0</th>\n",
       "      <td>1</td>\n",
       "      <td>Alice</td>\n",
       "      <td>25.0</td>\n",
       "      <td>50000.0</td>\n",
       "      <td>2023-01-10</td>\n",
       "      <td>HR</td>\n",
       "    </tr>\n",
       "    <tr>\n",
       "      <th>1</th>\n",
       "      <td>2</td>\n",
       "      <td>Bob</td>\n",
       "      <td>35.0</td>\n",
       "      <td>NaN</td>\n",
       "      <td>2023-03-15</td>\n",
       "      <td>IT</td>\n",
       "    </tr>\n",
       "    <tr>\n",
       "      <th>2</th>\n",
       "      <td>3</td>\n",
       "      <td>NaN</td>\n",
       "      <td>28.0</td>\n",
       "      <td>60000.0</td>\n",
       "      <td>NaN</td>\n",
       "      <td>Finance</td>\n",
       "    </tr>\n",
       "    <tr>\n",
       "      <th>3</th>\n",
       "      <td>4</td>\n",
       "      <td>Eve</td>\n",
       "      <td>NaN</td>\n",
       "      <td>58000.0</td>\n",
       "      <td>2023-05-20</td>\n",
       "      <td>HR</td>\n",
       "    </tr>\n",
       "    <tr>\n",
       "      <th>4</th>\n",
       "      <td>5</td>\n",
       "      <td>Charlie</td>\n",
       "      <td>45.0</td>\n",
       "      <td>70000.0</td>\n",
       "      <td>2023-02-01</td>\n",
       "      <td>NaN</td>\n",
       "    </tr>\n",
       "    <tr>\n",
       "      <th>5</th>\n",
       "      <td>6</td>\n",
       "      <td>Frank</td>\n",
       "      <td>NaN</td>\n",
       "      <td>NaN</td>\n",
       "      <td>2023-04-10</td>\n",
       "      <td>IT</td>\n",
       "    </tr>\n",
       "    <tr>\n",
       "      <th>6</th>\n",
       "      <td>7</td>\n",
       "      <td>Grace</td>\n",
       "      <td>30.0</td>\n",
       "      <td>62000.0</td>\n",
       "      <td>2023-06-25</td>\n",
       "      <td>Marketing</td>\n",
       "    </tr>\n",
       "    <tr>\n",
       "      <th>7</th>\n",
       "      <td>8</td>\n",
       "      <td>Hannah</td>\n",
       "      <td>27.0</td>\n",
       "      <td>64000.0</td>\n",
       "      <td>2023-07-01</td>\n",
       "      <td>Marketing</td>\n",
       "    </tr>\n",
       "  </tbody>\n",
       "</table>\n",
       "</div>"
      ],
      "text/plain": [
       "   ID     Name   Age   Salary   Join_Date Department\n",
       "0   1    Alice  25.0  50000.0  2023-01-10         HR\n",
       "1   2      Bob  35.0      NaN  2023-03-15         IT\n",
       "2   3      NaN  28.0  60000.0         NaN    Finance\n",
       "3   4      Eve   NaN  58000.0  2023-05-20         HR\n",
       "4   5  Charlie  45.0  70000.0  2023-02-01        NaN\n",
       "5   6    Frank   NaN      NaN  2023-04-10         IT\n",
       "6   7    Grace  30.0  62000.0  2023-06-25  Marketing\n",
       "7   8   Hannah  27.0  64000.0  2023-07-01  Marketing"
      ]
     },
     "execution_count": 11,
     "metadata": {},
     "output_type": "execute_result"
    }
   ],
   "source": [
    "# Sample dataset\n",
    "data = {\n",
    "    \"ID\": [1, 2, 3, 4, 5, 6, 7, 8],\n",
    "    \"Name\": [\"Alice\", \"Bob\", np.nan, \"Eve\", \"Charlie\", \"Frank\", \"Grace\", \"Hannah\"],\n",
    "    \"Age\": [25, 35, 28, np.nan, 45, np.nan, 30, 27],\n",
    "    \"Salary\": [50000, np.nan, 60000, 58000, 70000, np.nan, 62000, 64000],\n",
    "    \"Join_Date\": [\"2023-01-10\", \"2023-03-15\", np.nan, \"2023-05-20\", \"2023-02-01\", \"2023-04-10\", \"2023-06-25\", \"2023-07-01\"],\n",
    "    \"Department\": [\"HR\", \"IT\", \"Finance\", \"HR\", np.nan, \"IT\", \"Marketing\", \"Marketing\"]\n",
    "}\n",
    "\n",
    "df = pd.DataFrame(data)\n",
    "\n",
    "# Display dataset\n",
    "df"
   ]
  },
  {
   "cell_type": "markdown",
   "metadata": {},
   "source": [
    "## Understanding the Dataset\n",
    "\n",
    "### Problems in the Data:\n",
    "1. **Missing Values**:\n",
    "   - `Name` column has one missing value.\n",
    "   - `Age` and `Salary` columns contain multiple missing values.\n",
    "   - `Join_Date` has a missing entry.\n",
    "   - `Department` has one missing entry.\n",
    "\n",
    "2. **Redundant Columns**:\n",
    "   - The `ID` column is not informative for analysis.\n",
    "\n",
    "3. **Inconsistencies**:\n",
    "   - Missing values in key columns affect data integrity.\n",
    "\n",
    "Our goal is to address these issues step-by-step.\n"
   ]
  },
  {
   "cell_type": "code",
   "execution_count": 12,
   "metadata": {},
   "outputs": [
    {
     "data": {
      "image/png": "[encoded data removed]",
      "text/plain": [
       "<Figure size 640x480 with 1 Axes>"
      ]
     },
     "metadata": {},
     "output_type": "display_data"
    }
   ],
   "source": [
    "# Visualize missing data\n",
    "sns.heatmap(df.isnull(), cbar=False, cmap='viridis')\n",
    "plt.title(\"Missing Values in Dataset\")\n",
    "plt.show()"
   ]
  },
  {
   "cell_type": "markdown",
   "metadata": {},
   "source": [
    "### Handling Missing Values\n",
    "\n",
    "We will address missing values using the following techniques:\n",
    "- Impute numerical columns (`Age`, `Salary`) using mean/median values.\n",
    "- Impute categorical columns (`Name`, `Department`) using mode or forward fill.\n",
    "- Interpolate missing dates (`Join_Date`) using linear interpolation.\n"
   ]
  },
  {
   "cell_type": "code",
   "execution_count": 13,
   "metadata": {},
   "outputs": [
    {
     "name": "stderr",
     "output_type": "stream",
     "text": [
      "C:\\Users\\W T\\AppData\\Local\\Temp\\ipykernel_1844\\4175070960.py:2: FutureWarning: A value is trying to be set on a copy of a DataFrame or Series through chained assignment using an inplace method.\n",
      "The behavior will change in pandas 3.0. This inplace method will never work because the intermediate object on which we are setting values always behaves as a copy.\n",
      "\n",
      "For example, when doing 'df[col].method(value, inplace=True)', try using 'df.method({col: value}, inplace=True)' or df[col] = df[col].method(value) instead, to perform the operation inplace on the original object.\n",
      "\n",
      "\n",
      "  df['Age'].fillna(df['Age'].median(), inplace=True)  # Median imputation\n",
      "C:\\Users\\W T\\AppData\\Local\\Temp\\ipykernel_1844\\4175070960.py:3: FutureWarning: A value is trying to be set on a copy of a DataFrame or Series through chained assignment using an inplace method.\n",
      "The behavior will change in pandas 3.0. This inplace method will never work because the intermediate object on which we are setting values always behaves as a copy.\n",
      "\n",
      "For example, when doing 'df[col].method(value, inplace=True)', try using 'df.method({col: value}, inplace=True)' or df[col] = df[col].method(value) instead, to perform the operation inplace on the original object.\n",
      "\n",
      "\n",
      "  df['Salary'].fillna(df['Salary'].mean(), inplace=True)  # Mean imputation\n",
      "C:\\Users\\W T\\AppData\\Local\\Temp\\ipykernel_1844\\4175070960.py:6: FutureWarning: A value is trying to be set on a copy of a DataFrame or Series through chained assignment using an inplace method.\n",
      "The behavior will change in pandas 3.0. This inplace method will never work because the intermediate object on which we are setting values always behaves as a copy.\n",
      "\n",
      "For example, when doing 'df[col].method(value, inplace=True)', try using 'df.method({col: value}, inplace=True)' or df[col] = df[col].method(value) instead, to perform the operation inplace on the original object.\n",
      "\n",
      "\n",
      "  df['Name'].fillna(\"Unknown\", inplace=True)  # Mode or placeholder\n",
      "C:\\Users\\W T\\AppData\\Local\\Temp\\ipykernel_1844\\4175070960.py:7: FutureWarning: A value is trying to be set on a copy of a DataFrame or Series through chained assignment using an inplace method.\n",
      "The behavior will change in pandas 3.0. This inplace method will never work because the intermediate object on which we are setting values always behaves as a copy.\n",
      "\n",
      "For example, when doing 'df[col].method(value, inplace=True)', try using 'df.method({col: value}, inplace=True)' or df[col] = df[col].method(value) instead, to perform the operation inplace on the original object.\n",
      "\n",
      "\n",
      "  df['Department'].fillna(method='ffill', inplace=True)  # Forward fill\n",
      "C:\\Users\\W T\\AppData\\Local\\Temp\\ipykernel_1844\\4175070960.py:7: FutureWarning: Series.fillna with 'method' is deprecated and will raise in a future version. Use obj.ffill() or obj.bfill() instead.\n",
      "  df['Department'].fillna(method='ffill', inplace=True)  # Forward fill\n"
     ]
    }
   ],
   "source": [
    "# Impute numerical columns\n",
    "df['Age'].fillna(df['Age'].median(), inplace=True)  # Median imputation\n",
    "df['Salary'].fillna(df['Salary'].mean(), inplace=True)  # Mean imputation\n",
    "\n",
    "# Impute categorical columns\n",
    "df['Name'].fillna(\"Unknown\", inplace=True)  # Mode or placeholder\n",
    "df['Department'].fillna(method='ffill', inplace=True)  # Forward fill\n",
    "\n",
    "# Interpolate missing dates\n",
    "df['Join_Date'] = pd.to_datetime(df['Join_Date'])  # Convert to datetime\n",
    "df['Join_Date'] = df['Join_Date'].interpolate(method='linear')\n"
   ]
  },
  {
   "cell_type": "markdown",
   "metadata": {},
   "source": [
    "### Removing Redundant Columns\n",
    "\n",
    "The `ID` column is removed as it does not contribute to meaningful analysis.\n"
   ]
  },
  {
   "cell_type": "code",
   "execution_count": 14,
   "metadata": {},
   "outputs": [],
   "source": [
    "# Drop the 'ID' column\n",
    "df.drop(columns=['ID'], inplace=True)"
   ]
  },
  {
   "cell_type": "markdown",
   "metadata": {},
   "source": [
    "## Cleaned Dataset\n",
    "\n",
    "Below is the cleaned dataset after handling missing values and removing redundant columns.\n"
   ]
  },
  {
   "cell_type": "code",
   "execution_count": 15,
   "metadata": {},
   "outputs": [
    {
     "data": {
      "text/html": [
       "<div>\n",
       "<style scoped>\n",
       "    .dataframe tbody tr th:only-of-type {\n",
       "        vertical-align: middle;\n",
       "    }\n",
       "\n",
       "    .dataframe tbody tr th {\n",
       "        vertical-align: top;\n",
       "    }\n",
       "\n",
       "    .dataframe thead th {\n",
       "        text-align: right;\n",
       "    }\n",
       "</style>\n",
       "<table border=\"1\" class=\"dataframe\">\n",
       "  <thead>\n",
       "    <tr style=\"text-align: right;\">\n",
       "      <th></th>\n",
       "      <th>Name</th>\n",
       "      <th>Age</th>\n",
       "      <th>Salary</th>\n",
       "      <th>Join_Date</th>\n",
       "      <th>Department</th>\n",
       "    </tr>\n",
       "  </thead>\n",
       "  <tbody>\n",
       "    <tr>\n",
       "      <th>0</th>\n",
       "      <td>Alice</td>\n",
       "      <td>25.0</td>\n",
       "      <td>50000.000000</td>\n",
       "      <td>2023-01-10</td>\n",
       "      <td>HR</td>\n",
       "    </tr>\n",
       "    <tr>\n",
       "      <th>1</th>\n",
       "      <td>Bob</td>\n",
       "      <td>35.0</td>\n",
       "      <td>60666.666667</td>\n",
       "      <td>2023-03-15</td>\n",
       "      <td>IT</td>\n",
       "    </tr>\n",
       "    <tr>\n",
       "      <th>2</th>\n",
       "      <td>Unknown</td>\n",
       "      <td>28.0</td>\n",
       "      <td>60000.000000</td>\n",
       "      <td>2023-04-17</td>\n",
       "      <td>Finance</td>\n",
       "    </tr>\n",
       "    <tr>\n",
       "      <th>3</th>\n",
       "      <td>Eve</td>\n",
       "      <td>29.0</td>\n",
       "      <td>58000.000000</td>\n",
       "      <td>2023-05-20</td>\n",
       "      <td>HR</td>\n",
       "    </tr>\n",
       "    <tr>\n",
       "      <th>4</th>\n",
       "      <td>Charlie</td>\n",
       "      <td>45.0</td>\n",
       "      <td>70000.000000</td>\n",
       "      <td>2023-02-01</td>\n",
       "      <td>HR</td>\n",
       "    </tr>\n",
       "    <tr>\n",
       "      <th>5</th>\n",
       "      <td>Frank</td>\n",
       "      <td>29.0</td>\n",
       "      <td>60666.666667</td>\n",
       "      <td>2023-04-10</td>\n",
       "      <td>IT</td>\n",
       "    </tr>\n",
       "    <tr>\n",
       "      <th>6</th>\n",
       "      <td>Grace</td>\n",
       "      <td>30.0</td>\n",
       "      <td>62000.000000</td>\n",
       "      <td>2023-06-25</td>\n",
       "      <td>Marketing</td>\n",
       "    </tr>\n",
       "    <tr>\n",
       "      <th>7</th>\n",
       "      <td>Hannah</td>\n",
       "      <td>27.0</td>\n",
       "      <td>64000.000000</td>\n",
       "      <td>2023-07-01</td>\n",
       "      <td>Marketing</td>\n",
       "    </tr>\n",
       "  </tbody>\n",
       "</table>\n",
       "</div>"
      ],
      "text/plain": [
       "      Name   Age        Salary  Join_Date Department\n",
       "0    Alice  25.0  50000.000000 2023-01-10         HR\n",
       "1      Bob  35.0  60666.666667 2023-03-15         IT\n",
       "2  Unknown  28.0  60000.000000 2023-04-17    Finance\n",
       "3      Eve  29.0  58000.000000 2023-05-20         HR\n",
       "4  Charlie  45.0  70000.000000 2023-02-01         HR\n",
       "5    Frank  29.0  60666.666667 2023-04-10         IT\n",
       "6    Grace  30.0  62000.000000 2023-06-25  Marketing\n",
       "7   Hannah  27.0  64000.000000 2023-07-01  Marketing"
      ]
     },
     "execution_count": 15,
     "metadata": {},
     "output_type": "execute_result"
    }
   ],
   "source": [
    "# Displaying the cleaned dataset\n",
    "df"
   ]
  },
  {
   "cell_type": "markdown",
   "metadata": {},
   "source": [
    "## Summary of Cleaning Steps\n",
    "\n",
    "1. **Missing Values**:\n",
    "   - Imputed `Age` using the median.\n",
    "   - Imputed `Salary` using the mean.\n",
    "   - Filled missing `Name` with a placeholder value.\n",
    "   - Forward-filled `Department` values.\n",
    "   - Interpolated missing `Join_Date`.\n",
    "\n",
    "2. **Redundant Columns**:\n",
    "   - Removed the `ID` column.\n",
    "\n",
    "The cleaned dataset is now ready for further analysis.\n"
   ]
  }
 ],
 "metadata": {
  "kernelspec": {
   "display_name": "Python 3",
   "language": "python",
   "name": "python3"
  },
  "language_info": {
   "codemirror_mode": {
    "name": "ipython",
    "version": 3
   },
   "file_extension": ".py",
   "mimetype": "text/x-python",
   "name": "python",
   "nbconvert_exporter": "python",
   "pygments_lexer": "ipython3",
   "version": "3.13.0"
  }
 },
 "nbformat": 4,
 "nbformat_minor": 2
}
