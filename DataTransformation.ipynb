{
 "cells": [
  {
   "cell_type": "markdown",
   "metadata": {},
   "source": [
    "# Data Transformation Notebook\n",
    "\n",
    "This notebook demonstrates data transformation techniques to scale features for better comparability and analysis. The two methods covered are:\n",
    "1. **Standardization**\n",
    "2. **Normalization**\n",
    "\n",
    "Both methods adjust the data values without distorting differences in ranges or proportions.\n"
   ]
  },
  {
   "cell_type": "code",
   "execution_count": 1,
   "metadata": {},
   "outputs": [],
   "source": [
    "#Import libraries\n",
    "import pandas as pd\n",
    "import numpy as np\n",
    "import matplotlib.pyplot as plt\n",
    "import seaborn as sns\n",
    "from sklearn.preprocessing import StandardScaler, MinMaxScaler"
   ]
  },
  {
   "cell_type": "markdown",
   "metadata": {},
   "source": [
    "## Loading the Dataset\n",
    "\n",
    "We will use a small dataset with features having different scales to illustrate the need for standardization and normalization.\n"
   ]
  },
  {
   "cell_type": "code",
   "execution_count": 2,
   "metadata": {},
   "outputs": [
    {
     "data": {
      "text/html": [
       "<div>\n",
       "<style scoped>\n",
       "    .dataframe tbody tr th:only-of-type {\n",
       "        vertical-align: middle;\n",
       "    }\n",
       "\n",
       "    .dataframe tbody tr th {\n",
       "        vertical-align: top;\n",
       "    }\n",
       "\n",
       "    .dataframe thead th {\n",
       "        text-align: right;\n",
       "    }\n",
       "</style>\n",
       "<table border=\"1\" class=\"dataframe\">\n",
       "  <thead>\n",
       "    <tr style=\"text-align: right;\">\n",
       "      <th></th>\n",
       "      <th>ID</th>\n",
       "      <th>Height_cm</th>\n",
       "      <th>Weight_kg</th>\n",
       "      <th>Income_usd</th>\n",
       "    </tr>\n",
       "  </thead>\n",
       "  <tbody>\n",
       "    <tr>\n",
       "      <th>0</th>\n",
       "      <td>1</td>\n",
       "      <td>150</td>\n",
       "      <td>60</td>\n",
       "      <td>2000</td>\n",
       "    </tr>\n",
       "    <tr>\n",
       "      <th>1</th>\n",
       "      <td>2</td>\n",
       "      <td>160</td>\n",
       "      <td>65</td>\n",
       "      <td>2200</td>\n",
       "    </tr>\n",
       "    <tr>\n",
       "      <th>2</th>\n",
       "      <td>3</td>\n",
       "      <td>165</td>\n",
       "      <td>70</td>\n",
       "      <td>2500</td>\n",
       "    </tr>\n",
       "    <tr>\n",
       "      <th>3</th>\n",
       "      <td>4</td>\n",
       "      <td>155</td>\n",
       "      <td>55</td>\n",
       "      <td>2100</td>\n",
       "    </tr>\n",
       "    <tr>\n",
       "      <th>4</th>\n",
       "      <td>5</td>\n",
       "      <td>170</td>\n",
       "      <td>80</td>\n",
       "      <td>2700</td>\n",
       "    </tr>\n",
       "  </tbody>\n",
       "</table>\n",
       "</div>"
      ],
      "text/plain": [
       "   ID  Height_cm  Weight_kg  Income_usd\n",
       "0   1        150         60        2000\n",
       "1   2        160         65        2200\n",
       "2   3        165         70        2500\n",
       "3   4        155         55        2100\n",
       "4   5        170         80        2700"
      ]
     },
     "execution_count": 2,
     "metadata": {},
     "output_type": "execute_result"
    }
   ],
   "source": [
    "# Sample dataset with varying scales\n",
    "data = {\n",
    "    \"ID\": [1, 2, 3, 4, 5],\n",
    "    \"Height_cm\": [150, 160, 165, 155, 170],  # Heights in cm\n",
    "    \"Weight_kg\": [60, 65, 70, 55, 80],       # Weights in kg\n",
    "    \"Income_usd\": [2000, 2200, 2500, 2100, 2700]  # Monthly income in USD\n",
    "}\n",
    "\n",
    "df = pd.DataFrame(data)\n",
    "\n",
    "# Display dataset\n",
    "df"
   ]
  },
  {
   "cell_type": "markdown",
   "metadata": {},
   "source": [
    "## Why Standardization?\n",
    "\n",
    "Standardization rescales the data so that it has a mean of 0 and a standard deviation of 1. It is useful for algorithms sensitive to feature scales or when outliers might distort results.\n",
    "\n",
    "Formula:\n",
    "\\[\n",
    "Z = (x-mean)/std\n",
    "\\]\n",
    "\n",
    "Where:\n",
    "- \\( x \\): Original value\n",
    "- mean: Mean of the feature\n",
    "- std: Standard deviation of the feature\n"
   ]
  },
  {
   "cell_type": "code",
   "execution_count": 3,
   "metadata": {},
   "outputs": [
    {
     "data": {
      "text/html": [
       "<div>\n",
       "<style scoped>\n",
       "    .dataframe tbody tr th:only-of-type {\n",
       "        vertical-align: middle;\n",
       "    }\n",
       "\n",
       "    .dataframe tbody tr th {\n",
       "        vertical-align: top;\n",
       "    }\n",
       "\n",
       "    .dataframe thead th {\n",
       "        text-align: right;\n",
       "    }\n",
       "</style>\n",
       "<table border=\"1\" class=\"dataframe\">\n",
       "  <thead>\n",
       "    <tr style=\"text-align: right;\">\n",
       "      <th></th>\n",
       "      <th>ID</th>\n",
       "      <th>Height_cm_std</th>\n",
       "      <th>Weight_kg_std</th>\n",
       "      <th>Income_usd_std</th>\n",
       "    </tr>\n",
       "  </thead>\n",
       "  <tbody>\n",
       "    <tr>\n",
       "      <th>0</th>\n",
       "      <td>1</td>\n",
       "      <td>-1.414214</td>\n",
       "      <td>-0.697486</td>\n",
       "      <td>-1.150447</td>\n",
       "    </tr>\n",
       "    <tr>\n",
       "      <th>1</th>\n",
       "      <td>2</td>\n",
       "      <td>0.000000</td>\n",
       "      <td>-0.116248</td>\n",
       "      <td>-0.383482</td>\n",
       "    </tr>\n",
       "    <tr>\n",
       "      <th>2</th>\n",
       "      <td>3</td>\n",
       "      <td>0.707107</td>\n",
       "      <td>0.464991</td>\n",
       "      <td>0.766965</td>\n",
       "    </tr>\n",
       "    <tr>\n",
       "      <th>3</th>\n",
       "      <td>4</td>\n",
       "      <td>-0.707107</td>\n",
       "      <td>-1.278724</td>\n",
       "      <td>-0.766965</td>\n",
       "    </tr>\n",
       "    <tr>\n",
       "      <th>4</th>\n",
       "      <td>5</td>\n",
       "      <td>1.414214</td>\n",
       "      <td>1.627467</td>\n",
       "      <td>1.533930</td>\n",
       "    </tr>\n",
       "  </tbody>\n",
       "</table>\n",
       "</div>"
      ],
      "text/plain": [
       "   ID  Height_cm_std  Weight_kg_std  Income_usd_std\n",
       "0   1      -1.414214      -0.697486       -1.150447\n",
       "1   2       0.000000      -0.116248       -0.383482\n",
       "2   3       0.707107       0.464991        0.766965\n",
       "3   4      -0.707107      -1.278724       -0.766965\n",
       "4   5       1.414214       1.627467        1.533930"
      ]
     },
     "execution_count": 3,
     "metadata": {},
     "output_type": "execute_result"
    }
   ],
   "source": [
    "# Standardization\n",
    "scaler_standard = StandardScaler()\n",
    "standardized_data = scaler_standard.fit_transform(df[['Height_cm', 'Weight_kg', 'Income_usd']])\n",
    "\n",
    "# Create a new DataFrame\n",
    "df_standardized = pd.DataFrame(standardized_data, columns=['Height_cm_std', 'Weight_kg_std', 'Income_usd_std'])\n",
    "\n",
    "# Concatenate standardized data with original ID\n",
    "df_standardized = pd.concat([df[['ID']], df_standardized], axis=1)\n",
    "\n",
    "# Display results\n",
    "df_standardized"
   ]
  },
  {
   "cell_type": "markdown",
   "metadata": {},
   "source": [
    "## Visualizing Standardized Data\n",
    "\n",
    "After standardization, all features have been rescaled to have a mean of 0 and a standard deviation of 1.\n"
   ]
  },
  {
   "cell_type": "code",
   "execution_count": 4,
   "metadata": {},
   "outputs": [
    {
     "data": {
      "image/png": "[encoded data removed]",
      "text/plain": [
       "<Figure size 640x480 with 1 Axes>"
      ]
     },
     "metadata": {},
     "output_type": "display_data"
    }
   ],
   "source": [
    "# Visualization of standardized data\n",
    "df_standardized_melted = pd.melt(df_standardized, id_vars=\"ID\", var_name=\"Feature\", value_name=\"Value\")\n",
    "sns.barplot(data=df_standardized_melted, x=\"ID\", y=\"Value\", hue=\"Feature\")\n",
    "plt.title(\"Standardized Features\")\n",
    "plt.show()"
   ]
  },
  {
   "cell_type": "markdown",
   "metadata": {},
   "source": [
    "## Why Normalization?\n",
    "\n",
    "Normalization rescales data to a fixed range, typically [0, 1]. This is useful when:\n",
    "- Data needs to fit within a fixed scale (e.g., pixel intensity in images).\n",
    "- Outlier influence needs to be minimized.\n",
    "\n",
    "Formula:\n",
    "- \n",
    "x' = [x - min(x)]/[max(x) - min(x)]\n",
    "\n",
    "Where:\n",
    "- \\( x \\): Original value\n",
    "- \\( min(x) \\): Minimum value in the feature\n",
    "- \\( max(x) \\): Maximum value in the feature\n"
   ]
  },
  {
   "cell_type": "code",
   "execution_count": 5,
   "metadata": {},
   "outputs": [
    {
     "data": {
      "text/html": [
       "<div>\n",
       "<style scoped>\n",
       "    .dataframe tbody tr th:only-of-type {\n",
       "        vertical-align: middle;\n",
       "    }\n",
       "\n",
       "    .dataframe tbody tr th {\n",
       "        vertical-align: top;\n",
       "    }\n",
       "\n",
       "    .dataframe thead th {\n",
       "        text-align: right;\n",
       "    }\n",
       "</style>\n",
       "<table border=\"1\" class=\"dataframe\">\n",
       "  <thead>\n",
       "    <tr style=\"text-align: right;\">\n",
       "      <th></th>\n",
       "      <th>ID</th>\n",
       "      <th>Height_cm_norm</th>\n",
       "      <th>Weight_kg_norm</th>\n",
       "      <th>Income_usd_norm</th>\n",
       "    </tr>\n",
       "  </thead>\n",
       "  <tbody>\n",
       "    <tr>\n",
       "      <th>0</th>\n",
       "      <td>1</td>\n",
       "      <td>0.00</td>\n",
       "      <td>0.2</td>\n",
       "      <td>0.000000</td>\n",
       "    </tr>\n",
       "    <tr>\n",
       "      <th>1</th>\n",
       "      <td>2</td>\n",
       "      <td>0.50</td>\n",
       "      <td>0.4</td>\n",
       "      <td>0.285714</td>\n",
       "    </tr>\n",
       "    <tr>\n",
       "      <th>2</th>\n",
       "      <td>3</td>\n",
       "      <td>0.75</td>\n",
       "      <td>0.6</td>\n",
       "      <td>0.714286</td>\n",
       "    </tr>\n",
       "    <tr>\n",
       "      <th>3</th>\n",
       "      <td>4</td>\n",
       "      <td>0.25</td>\n",
       "      <td>0.0</td>\n",
       "      <td>0.142857</td>\n",
       "    </tr>\n",
       "    <tr>\n",
       "      <th>4</th>\n",
       "      <td>5</td>\n",
       "      <td>1.00</td>\n",
       "      <td>1.0</td>\n",
       "      <td>1.000000</td>\n",
       "    </tr>\n",
       "  </tbody>\n",
       "</table>\n",
       "</div>"
      ],
      "text/plain": [
       "   ID  Height_cm_norm  Weight_kg_norm  Income_usd_norm\n",
       "0   1            0.00             0.2         0.000000\n",
       "1   2            0.50             0.4         0.285714\n",
       "2   3            0.75             0.6         0.714286\n",
       "3   4            0.25             0.0         0.142857\n",
       "4   5            1.00             1.0         1.000000"
      ]
     },
     "execution_count": 5,
     "metadata": {},
     "output_type": "execute_result"
    }
   ],
   "source": [
    "# Normalization\n",
    "scaler_normal = MinMaxScaler()\n",
    "normalized_data = scaler_normal.fit_transform(df[['Height_cm', 'Weight_kg', 'Income_usd']])\n",
    "\n",
    "# Create a new DataFrame\n",
    "df_normalized = pd.DataFrame(normalized_data, columns=['Height_cm_norm', 'Weight_kg_norm', 'Income_usd_norm'])\n",
    "\n",
    "# Concatenate normalized data with original ID\n",
    "df_normalized = pd.concat([df[['ID']], df_normalized], axis=1)\n",
    "\n",
    "# Display results\n",
    "df_normalized"
   ]
  },
  {
   "cell_type": "markdown",
   "metadata": {},
   "source": [
    "## Visualizing Normalized Data\n",
    "\n",
    "After normalization, all features have been rescaled to lie between 0 and 1."
   ]
  },
  {
   "cell_type": "code",
   "execution_count": 6,
   "metadata": {},
   "outputs": [
    {
     "data": {
      "image/png": "[encoded data removed]",
      "text/plain": [
       "<Figure size 640x480 with 1 Axes>"
      ]
     },
     "metadata": {},
     "output_type": "display_data"
    }
   ],
   "source": [
    "# Visualization of normalized data\n",
    "df_normalized_melted = pd.melt(df_normalized, id_vars=\"ID\", var_name=\"Feature\", value_name=\"Value\")\n",
    "sns.barplot(data=df_normalized_melted, x=\"ID\", y=\"Value\", hue=\"Feature\")\n",
    "plt.title(\"Normalized Features\")\n",
    "plt.show()"
   ]
  },
  {
   "cell_type": "markdown",
   "metadata": {},
   "source": [
    "## Comparing Standardization and Normalization\n",
    "\n",
    "| Feature     | Original Scale       | Standardized Scale     | Normalized Scale |\n",
    "|-------------|----------------------|------------------------|------------------|\n",
    "| **Height**  | 150-170 cm           | Mean = 0, SD = 1       | 0 to 1           |\n",
    "| **Weight**  | 55-80 kg             | Mean = 0, SD = 1       | 0 to 1           |\n",
    "| **Income**  | 2000-2700 USD        | Mean = 0, SD = 1       | 0 to 1           |\n",
    "\n",
    "- **Standardization**: Suitable for algorithms like PCA or SVM that are sensitive to feature scaling.\n",
    "- **Normalization**: Useful when scaling to a specific range is required.\n"
   ]
  },
  {
   "cell_type": "markdown",
   "metadata": {},
   "source": [
    "## Summary\n",
    "\n",
    "1. **Standardization**: Adjusts the data to have a mean of 0 and a standard deviation of 1.\n",
    "   - Effective for distance-based models and sensitive algorithms.\n",
    "2. **Normalization**: Scales data between 0 and 1.\n",
    "   - Useful for bounding features and reducing the effect of large values.\n",
    "\n",
    "Both techniques improve data comparability and ensure fair representation in models.\n"
   ]
  }
 ],
 "metadata": {
  "kernelspec": {
   "display_name": "Python 3",
   "language": "python",
   "name": "python3"
  },
  "language_info": {
   "codemirror_mode": {
    "name": "ipython",
    "version": 3
   },
   "file_extension": ".py",
   "mimetype": "text/x-python",
   "name": "python",
   "nbconvert_exporter": "python",
   "pygments_lexer": "ipython3",
   "version": "3.13.0"
  }
 },
 "nbformat": 4,
 "nbformat_minor": 2
}
